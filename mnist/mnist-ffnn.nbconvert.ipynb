{
 "cells": [
  {
   "cell_type": "code",
   "execution_count": 1,
   "id": "56a16226",
   "metadata": {
    "execution": {
     "iopub.execute_input": "2021-07-04T17:10:42.501056Z",
     "iopub.status.busy": "2021-07-04T17:10:42.499886Z",
     "iopub.status.idle": "2021-07-04T17:10:43.286923Z",
     "shell.execute_reply": "2021-07-04T17:10:43.287365Z"
    }
   },
   "outputs": [],
   "source": [
    "import os\n",
    "from time import time\n",
    "from datetime import datetime, timedelta\n",
    "\n",
    "import numpy as np\n",
    "import pandas as pd\n",
    "import torch\n",
    "from torch import nn\n",
    "import torch.nn.functional as F\n",
    "import torchvision\n",
    "import torchvision.transforms as T\n",
    "from torchvision.datasets import MNIST\n",
    "import idx2numpy\n",
    "import PIL\n",
    "import matplotlib.pyplot as plt\n",
    "%matplotlib inline"
   ]
  },
  {
   "cell_type": "code",
   "execution_count": 2,
   "id": "cd051f65",
   "metadata": {
    "execution": {
     "iopub.execute_input": "2021-07-04T17:10:43.293125Z",
     "iopub.status.busy": "2021-07-04T17:10:43.292323Z",
     "iopub.status.idle": "2021-07-04T17:10:43.295815Z",
     "shell.execute_reply": "2021-07-04T17:10:43.294714Z"
    }
   },
   "outputs": [],
   "source": [
    "class FFNN(nn.Module):\n",
    "    def __init__(self, in_shape, out_shape):\n",
    "        super().__init__()\n",
    "        fc1 = nn.Linear(in_shape, 64)\n",
    "        a1  = nn.ReLU()\n",
    "        fc2 = nn.Linear(64, 32)\n",
    "        a2  = nn.ReLU()\n",
    "        fc3 = nn.Linear(32, out_shape)\n",
    "        \n",
    "        # not applying log_softmax here, as it is applied later in \n",
    "        # the torch CCE loss\n",
    "        \n",
    "        self.nn = nn.Sequential(fc1, a1, fc2, a2, fc3)\n",
    "\n",
    "    def forward(self, x):\n",
    "        x = self.nn(x)\n",
    "        return x"
   ]
  },
  {
   "cell_type": "code",
   "execution_count": 3,
   "id": "2f4f3a81",
   "metadata": {
    "execution": {
     "iopub.execute_input": "2021-07-04T17:10:43.301219Z",
     "iopub.status.busy": "2021-07-04T17:10:43.300710Z",
     "iopub.status.idle": "2021-07-04T17:10:43.328102Z",
     "shell.execute_reply": "2021-07-04T17:10:43.328495Z"
    },
    "scrolled": true
   },
   "outputs": [
    {
     "name": "stderr",
     "output_type": "stream",
     "text": [
      "/home/chris/.local/lib/python3.9/site-packages/torchvision/datasets/mnist.py:498: UserWarning: The given NumPy array is not writeable, and PyTorch does not support non-writeable tensors. This means you can write to the underlying (supposedly non-writeable) NumPy array using the tensor. You may want to copy the array to protect its data or make it writeable before converting it to a tensor. This type of warning will be suppressed for the rest of this program. (Triggered internally at  ../torch/csrc/utils/tensor_numpy.cpp:174.)\n",
      "  return torch.from_numpy(parsed.astype(m[2], copy=False)).view(*s)\n"
     ]
    }
   ],
   "source": [
    "# define dataset splits \n",
    "transforms = T.Compose([T.ToTensor(), T.Normalize((0.5,),(0.5)), T.Lambda(lambda x: torch.flatten(x))])\n",
    "\n",
    "dataset_train = MNIST(root='/data/', transform=transforms, train=True)\n",
    "dataset_test  = MNIST(root='/data/', transform=transforms, train=False)\n",
    "\n",
    "# create dataloaders\n",
    "train_args = {'dataset':dataset_train, 'batch_size':512, 'shuffle':True, 'num_workers':8, 'pin_memory':True}\n",
    "dataloader_train = torch.utils.data.DataLoader(**train_args)\n",
    "test_args  = {'dataset':dataset_test, 'batch_size':len(dataset_test), 'shuffle':False, 'num_workers':8}\n",
    "dataloader_test  = torch.utils.data.DataLoader(**test_args) "
   ]
  },
  {
   "cell_type": "code",
   "execution_count": 4,
   "id": "daf0724f",
   "metadata": {
    "execution": {
     "iopub.execute_input": "2021-07-04T17:10:43.339327Z",
     "iopub.status.busy": "2021-07-04T17:10:43.338854Z",
     "iopub.status.idle": "2021-07-04T17:11:42.775547Z",
     "shell.execute_reply": "2021-07-04T17:11:42.774605Z"
    }
   },
   "outputs": [
    {
     "name": "stdout",
     "output_type": "stream",
     "text": [
      "FFNN(\n",
      "  (nn): Sequential(\n",
      "    (0): Linear(in_features=784, out_features=64, bias=True)\n",
      "    (1): ReLU()\n",
      "    (2): Linear(in_features=64, out_features=32, bias=True)\n",
      "    (3): ReLU()\n",
      "    (4): Linear(in_features=32, out_features=10, bias=True)\n",
      "  )\n",
      ")\n",
      "using torch on cpu\n",
      "########################################\n",
      "starting training at 2021-07-04 18:10:43\n",
      "########################################\n",
      "epoch:0, total_loss: 0.5420\n",
      "epoch:1, total_loss: 0.4894\n",
      "epoch:2, total_loss: 0.3788\n",
      "epoch:3, total_loss: 0.2628\n",
      "epoch:4, total_loss: 0.1917\n",
      "epoch:5, total_loss: 0.1571\n",
      "epoch:6, total_loss: 0.1369\n",
      "epoch:7, total_loss: 0.1224\n",
      "epoch:8, total_loss: 0.1138\n",
      "epoch:9, total_loss: 0.1073\n",
      "########################################\n",
      "training finished at 2021-07-04 18:11:42\n",
      "########################################\n",
      "\n",
      "script duration 0:00:59.427100\n"
     ]
    }
   ],
   "source": [
    "spacer = '#' * 40 # for printing purposes\n",
    "\n",
    "# setup model\n",
    "num_classes = 10 # amount of classes in mnist\n",
    "flattened_shape = torch.prod(torch.tensor(dataset_train[0][0].shape))\n",
    "model = FFNN(flattened_shape, num_classes)\n",
    "print(model)\n",
    "\n",
    "# train parameters\n",
    "n_epochs = 10\n",
    "learning_rate = 1e-3\n",
    "\n",
    "optimiser = torch.optim.SGD(params=model.parameters(), lr=learning_rate, momentum=0.9)\n",
    "f_loss = nn.CrossEntropyLoss()\n",
    "\n",
    "# configure hardware acceleration\n",
    "device_name = 'cuda' if torch.cuda.is_available() else 'cpu'\n",
    "device = torch.device(device_name)\n",
    "print(f'using torch on {device}')\n",
    "\n",
    "# logging data\n",
    "log = pd.DataFrame(columns=['loss', 'train_accuracy', 'test_accuracy'])\n",
    "\n",
    "# time keeping\n",
    "start_time = time()\n",
    "print(f'{spacer}\\nstarting training at {datetime.fromtimestamp(int(start_time))}\\n{spacer}')\n",
    "\n",
    "### main training loop\n",
    "for n in range(n_epochs):\n",
    "    total_loss = 0\n",
    "    # optimisation\n",
    "    model.train()\n",
    "    for idx, (X, y) in enumerate(dataloader_train):\n",
    "        X, y = X.to(device), y.to(device)\n",
    "        optimiser.zero_grad()\n",
    "        y_pred = model(X) # forward\n",
    "        # y = F.one_hot(y, num_classes) # create one_hot tensor for predictions \n",
    "        # creating one_hot tensor is unnecessary as the torch cross entropy function\n",
    "        # applies softmax and takes argmax from output.\n",
    "        loss = f_loss(y_pred, y)\n",
    "        loss.backward()\n",
    "        total_loss += loss.detach().cpu().item() / len(y) # normalise for batch size\n",
    "        optimiser.step()\n",
    "        \n",
    "    # train set metrics\n",
    "    predictions, targets = [], []\n",
    "    model.eval()\n",
    "    for idx, (X, y) in enumerate(dataloader_train):\n",
    "        predictions.append(model(X).detach())\n",
    "        targets.append(y)\n",
    "        \n",
    "    predictions = torch.cat(predictions, dim=0)\n",
    "    targets = torch.cat(targets, dim=0)\n",
    "    predictions = torch.argmax(F.log_softmax(predictions, dim=1),dim=1)\n",
    "    corrects = (predictions == targets).sum().item()\n",
    "    wrongs = len(targets) - corrects\n",
    "    train_accuracy = corrects / len(targets)\n",
    "    \n",
    "    predictions, targets = [], []\n",
    "    model.eval()\n",
    "    for idx, (X, y) in enumerate(dataloader_test):\n",
    "        predictions.append(model(X).detach())\n",
    "        targets.append(y)\n",
    "        \n",
    "    predictions = torch.cat(predictions, dim=0)\n",
    "    targets = torch.cat(targets, dim=0)\n",
    "    predictions = torch.argmax(F.log_softmax(predictions, dim=1),dim=1)\n",
    "    corrects = (predictions == targets).sum().item()\n",
    "    wrongs = len(targets) - corrects\n",
    "    test_accuracy = corrects / len(targets)\n",
    "        \n",
    "    print(f'epoch:{n}, total_loss: {total_loss:.4f}')\n",
    "    log = log.append({'loss':total_loss, 'train_accuracy':train_accuracy, 'test_accuracy':test_accuracy}, ignore_index=True)\n",
    "\n",
    "# time keeping\n",
    "end_time = time()\n",
    "duration = end_time - start_time\n",
    "print(f'{spacer}\\ntraining finished at {datetime.fromtimestamp(int(end_time))}\\n{spacer}')\n",
    "print(f'\\nscript duration {timedelta(seconds=duration)}')"
   ]
  },
  {
   "cell_type": "code",
   "execution_count": 5,
   "id": "830d8777",
   "metadata": {
    "execution": {
     "iopub.execute_input": "2021-07-04T17:11:42.780615Z",
     "iopub.status.busy": "2021-07-04T17:11:42.779764Z",
     "iopub.status.idle": "2021-07-04T17:11:42.890613Z",
     "shell.execute_reply": "2021-07-04T17:11:42.889484Z"
    }
   },
   "outputs": [
    {
     "data": {
      "image/png": "[encoded data removed]",
      "text/plain": [
       "<Figure size 432x288 with 1 Axes>"
      ]
     },
     "metadata": {
      "needs_background": "light"
     },
     "output_type": "display_data"
    }
   ],
   "source": [
    "log.plot(y='loss', title='Cross Entropy Loss over training set', xlabel='epochs', ylabel='loss', legend=False)\n",
    "plt.show()"
   ]
  },
  {
   "cell_type": "code",
   "execution_count": 6,
   "id": "e34ee307",
   "metadata": {
    "execution": {
     "iopub.execute_input": "2021-07-04T17:11:42.923833Z",
     "iopub.status.busy": "2021-07-04T17:11:42.922984Z",
     "iopub.status.idle": "2021-07-04T17:11:43.030879Z",
     "shell.execute_reply": "2021-07-04T17:11:43.030411Z"
    }
   },
   "outputs": [
    {
     "data": {
      "text/plain": [
       "[]"
      ]
     },
     "execution_count": 1,
     "metadata": {},
     "output_type": "execute_result"
    },
    {
     "data": {
      "image/png": "[encoded data removed]",
      "text/plain": [
       "<Figure size 432x288 with 1 Axes>"
      ]
     },
     "metadata": {
      "needs_background": "light"
     },
     "output_type": "display_data"
    }
   ],
   "source": [
    "log.plot(y=['train_accuracy', 'test_accuracy'], \n",
    "         title='accuracy',\n",
    "         xlabel='epochs', ylabel='correct / total predictions')\n",
    "plt.plot()"
   ]
  }
 ],
 "metadata": {
  "kernelspec": {
   "display_name": "Python 3",
   "language": "python",
   "name": "python3"
  },
  "language_info": {
   "codemirror_mode": {
    "name": "ipython",
    "version": 3
   },
   "file_extension": ".py",
   "mimetype": "text/x-python",
   "name": "python",
   "nbconvert_exporter": "python",
   "pygments_lexer": "ipython3",
   "version": "3.9.5"
  }
 },
 "nbformat": 4,
 "nbformat_minor": 5
}
